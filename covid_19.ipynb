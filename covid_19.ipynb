{
 "cells": [
  {
   "cell_type": "code",
   "execution_count": 1,
   "metadata": {},
   "outputs": [
    {
     "name": "stdout",
     "output_type": "stream",
     "text": [
      "Tensorflow version: 2.5.0\n"
     ]
    }
   ],
   "source": [
    "import numpy as np\n",
    "import seaborn as sns\n",
    "import matplotlib.pyplot as plt\n",
    "import utils\n",
    "import os\n",
    "%matplotlib inline\n",
    "\n",
    "from tensorflow.keras.preprocessing.image import ImageDataGenerator\n",
    "from tensorflow.keras.layers import Dense, Input, Dropout,Flatten, Conv2D\n",
    "from tensorflow.keras.layers import BatchNormalization, Activation, MaxPooling2D\n",
    "from tensorflow.keras.models import Model, Sequential\n",
    "from tensorflow.keras.optimizers import Adam\n",
    "from tensorflow.keras.callbacks import ModelCheckpoint, ReduceLROnPlateau\n",
    "from tensorflow.keras.utils import plot_model\n",
    "from livelossplot import PlotLossesKerasTF\n",
    "from IPython.display import SVG, Image\n",
    "from livelossplot.tf_keras import PlotLossesCallback\n",
    "from livelossplot import PlotLossesKerasTF\n",
    "import tensorflow as tf\n",
    "import keras\n",
    "print(\"Tensorflow version:\", tf.__version__)"
   ]
  },
  {
   "cell_type": "code",
   "execution_count": 2,
   "metadata": {},
   "outputs": [
    {
     "name": "stdout",
     "output_type": "stream",
     "text": [
      "{'Covid-19': 0, 'No_findings': 1, 'Pneumonia': 2}\n",
      "['Covid-19', 'No_findings', 'Pneumonia']\n",
      "[0, 1, 2]\n"
     ]
    }
   ],
   "source": [
    "import cv2,os\n",
    "\n",
    "data_path=r'D:\\4-1 project\\X-Ray Image DataSet'\n",
    "categories=os.listdir(data_path)\n",
    "labels=[i for i in range(len(categories))]\n",
    "\n",
    "label_dict=dict(zip(categories,labels))\n",
    "\n",
    "print(label_dict)\n",
    "print(categories)\n",
    "print(labels)"
   ]
  },
  {
   "cell_type": "code",
   "execution_count": 3,
   "metadata": {},
   "outputs": [],
   "source": [
    "img_size=100\n",
    "data=[]\n",
    "target=[]\n",
    "\n",
    "\n",
    "for category in categories:\n",
    "    folder_path=os.path.join(data_path,category)\n",
    "    img_names=os.listdir(folder_path)\n",
    "        \n",
    "    for img_name in img_names:\n",
    "        img_path=os.path.join(folder_path,img_name)\n",
    "        img=cv2.imread(img_path)\n",
    "\n",
    "        try:\n",
    "            gray=cv2.cvtColor(img,cv2.COLOR_BGR2GRAY)           \n",
    "            #Coverting the image into gray scale\n",
    "            resized=cv2.resize(gray,(img_size,img_size))\n",
    "            #resizing the gray scale into 100x100, since we need a fixed common size for all the images in the dataset\n",
    "            data.append(resized)\n",
    "            target.append(label_dict[category])\n",
    "            #appending the image and the label(categorized) into the list (dataset)\n",
    "\n",
    "        except Exception as e:\n",
    "            print('Exception:',e)\n",
    "            #if any exception rasied, the exception will be printed here. And pass to the next image"
   ]
  },
  {
   "cell_type": "code",
   "execution_count": 4,
   "metadata": {},
   "outputs": [],
   "source": [
    "import numpy as np\n",
    "\n",
    "data=np.array(data)/255.0\n",
    "\n",
    "data=np.reshape(data,(data.shape[0],img_size,img_size,1))\n",
    "target=np.array(target)\n",
    "\n",
    "from keras.utils import np_utils\n",
    "\n",
    "new_target=np_utils.to_categorical(target)"
   ]
  },
  {
   "cell_type": "code",
   "execution_count": 5,
   "metadata": {},
   "outputs": [
    {
     "name": "stdout",
     "output_type": "stream",
     "text": [
      "Model: \"sequential\"\n",
      "_________________________________________________________________\n",
      "Layer (type)                 Output Shape              Param #   \n",
      "=================================================================\n",
      "conv2d (Conv2D)              (None, 98, 98, 64)        640       \n",
      "_________________________________________________________________\n",
      "activation (Activation)      (None, 98, 98, 64)        0         \n",
      "_________________________________________________________________\n",
      "max_pooling2d (MaxPooling2D) (None, 49, 49, 64)        0         \n",
      "_________________________________________________________________\n",
      "dropout (Dropout)            (None, 49, 49, 64)        0         \n",
      "_________________________________________________________________\n",
      "conv2d_1 (Conv2D)            (None, 47, 47, 128)       73856     \n",
      "_________________________________________________________________\n",
      "activation_1 (Activation)    (None, 47, 47, 128)       0         \n",
      "_________________________________________________________________\n",
      "max_pooling2d_1 (MaxPooling2 (None, 23, 23, 128)       0         \n",
      "_________________________________________________________________\n",
      "dropout_1 (Dropout)          (None, 23, 23, 128)       0         \n",
      "_________________________________________________________________\n",
      "flatten (Flatten)            (None, 67712)             0         \n",
      "_________________________________________________________________\n",
      "dropout_2 (Dropout)          (None, 67712)             0         \n",
      "_________________________________________________________________\n",
      "dense (Dense)                (None, 50)                3385650   \n",
      "_________________________________________________________________\n",
      "dense_1 (Dense)              (None, 3)                 153       \n",
      "=================================================================\n",
      "Total params: 3,460,299\n",
      "Trainable params: 3,460,299\n",
      "Non-trainable params: 0\n",
      "_________________________________________________________________\n",
      "None\n"
     ]
    }
   ],
   "source": [
    "width,height,depth=100,100,1\n",
    "num_classes=3\n",
    "model=Sequential()\n",
    "\n",
    "model.add(Conv2D(64,(3,3),input_shape=(width,height,depth)))\n",
    "model.add(Activation('relu'))\n",
    "model.add(MaxPooling2D(pool_size=(2,2)))\n",
    "model.add(Dropout(0.2))\n",
    "#The first CNN layer followed by Relu and MaxPooling layers\n",
    "\n",
    "model.add(Conv2D(128,(3,3)))\n",
    "model.add(Activation('relu'))\n",
    "model.add(MaxPooling2D(pool_size=(2,2)))\n",
    "model.add(Dropout(0.2))\n",
    "#The second convolution layer followed by Relu and MaxPooling layers\n",
    "\n",
    "model.add(Flatten())\n",
    "model.add(Dropout(0.5))\n",
    "#Flatten layer to stack the output convolutions from second convolution layer\n",
    "model.add(Dense(50,activation='relu'))\n",
    "#Dense layer of 50 neurons\n",
    "model.add(Dense(3,activation='softmax'))\n",
    "print(model.summary())\n",
    "model.compile(loss='BinaryCrossentropy',optimizer='adam',metrics=['accuracy'])\n"
   ]
  },
  {
   "cell_type": "code",
   "execution_count": 6,
   "metadata": {},
   "outputs": [
    {
     "data": {
      "image/png": "[encoded data removed]",
      "text/plain": [
       "<PIL.Image.Image image mode=RGBA size=1199x559 at 0x21188DA5608>"
      ]
     },
     "execution_count": 6,
     "metadata": {},
     "output_type": "execute_result"
    }
   ],
   "source": [
    "import visualkeras\n",
    "from collections import defaultdict\n",
    "from PIL import ImageFont\n",
    "color_map = defaultdict(dict)\n",
    "color_map[Conv2D]['fill'] = 'blue'\n",
    "color_map[MaxPooling2D]['fill'] = 'pink'\n",
    "color_map[Dense]['fill'] = 'green'\n",
    "color_map[Flatten]['fill'] = 'purple'\n",
    "visualkeras.layered_view(model, legend=True,color_map=color_map) "
   ]
  },
  {
   "cell_type": "code",
   "execution_count": 7,
   "metadata": {},
   "outputs": [],
   "source": [
    "# from keras.utils.vis_utils import plot_model\n",
    "# plot_model(model,to_file=r'D:\\pro_out\\diabates\\model_plot.png',show_shapes=True, show_layer_names=True)"
   ]
  },
  {
   "cell_type": "code",
   "execution_count": 8,
   "metadata": {},
   "outputs": [],
   "source": [
    "from sklearn.model_selection import train_test_split\n",
    "x_train,x_test,y_train,y_test=train_test_split(data,new_target,test_size=0.3)"
   ]
  },
  {
   "cell_type": "code",
   "execution_count": 9,
   "metadata": {
    "scrolled": false
   },
   "outputs": [
    {
     "name": "stdout",
     "output_type": "stream",
     "text": [
      "Epoch 1/40\n",
      "16/16 [==============================] - 9s 514ms/step - loss: 0.7664 - accuracy: 0.4442 - val_loss: 0.5838 - val_accuracy: 0.4275\n",
      "Epoch 2/40\n",
      "16/16 [==============================] - 8s 531ms/step - loss: 0.5778 - accuracy: 0.4775 - val_loss: 0.5752 - val_accuracy: 0.4964\n",
      "Epoch 3/40\n",
      "16/16 [==============================] - 10s 641ms/step - loss: 0.5398 - accuracy: 0.5597 - val_loss: 0.5118 - val_accuracy: 0.6739\n",
      "Epoch 4/40\n",
      "16/16 [==============================] - 9s 580ms/step - loss: 0.4616 - accuracy: 0.6419 - val_loss: 0.4173 - val_accuracy: 0.7464\n",
      "Epoch 5/40\n",
      "16/16 [==============================] - 9s 563ms/step - loss: 0.4173 - accuracy: 0.6830 - val_loss: 0.4055 - val_accuracy: 0.7428\n",
      "Epoch 6/40\n",
      "16/16 [==============================] - 9s 565ms/step - loss: 0.3749 - accuracy: 0.7515 - val_loss: 0.4033 - val_accuracy: 0.7283\n",
      "Epoch 7/40\n",
      "16/16 [==============================] - 8s 494ms/step - loss: 0.3627 - accuracy: 0.7417 - val_loss: 0.3707 - val_accuracy: 0.7645\n",
      "Epoch 8/40\n",
      "16/16 [==============================] - 8s 483ms/step - loss: 0.3338 - accuracy: 0.7476 - val_loss: 0.3734 - val_accuracy: 0.7717\n",
      "Epoch 9/40\n",
      "16/16 [==============================] - 8s 491ms/step - loss: 0.3384 - accuracy: 0.7534 - val_loss: 0.3669 - val_accuracy: 0.7862\n",
      "Epoch 10/40\n",
      "16/16 [==============================] - 8s 483ms/step - loss: 0.3171 - accuracy: 0.7750 - val_loss: 0.3875 - val_accuracy: 0.7355\n",
      "Epoch 11/40\n",
      "16/16 [==============================] - 8s 484ms/step - loss: 0.3211 - accuracy: 0.7652 - val_loss: 0.3886 - val_accuracy: 0.7645\n",
      "Epoch 12/40\n",
      "16/16 [==============================] - 8s 484ms/step - loss: 0.3101 - accuracy: 0.7906 - val_loss: 0.3662 - val_accuracy: 0.7935\n",
      "Epoch 13/40\n",
      "16/16 [==============================] - 8s 484ms/step - loss: 0.2865 - accuracy: 0.8121 - val_loss: 0.3560 - val_accuracy: 0.7899\n",
      "Epoch 14/40\n",
      "16/16 [==============================] - 8s 481ms/step - loss: 0.2616 - accuracy: 0.8239 - val_loss: 0.3998 - val_accuracy: 0.7210\n",
      "Epoch 15/40\n",
      "16/16 [==============================] - 8s 484ms/step - loss: 0.2546 - accuracy: 0.8200 - val_loss: 0.3960 - val_accuracy: 0.7609\n",
      "Epoch 16/40\n",
      "16/16 [==============================] - 8s 489ms/step - loss: 0.2987 - accuracy: 0.7984 - val_loss: 0.3857 - val_accuracy: 0.7826\n",
      "Epoch 17/40\n",
      "16/16 [==============================] - 8s 491ms/step - loss: 0.2488 - accuracy: 0.8297 - val_loss: 0.3742 - val_accuracy: 0.7681\n",
      "Epoch 18/40\n",
      "16/16 [==============================] - 8s 486ms/step - loss: 0.2313 - accuracy: 0.8493 - val_loss: 0.3875 - val_accuracy: 0.7572\n",
      "Epoch 19/40\n",
      "16/16 [==============================] - 8s 484ms/step - loss: 0.2046 - accuracy: 0.8591 - val_loss: 0.3899 - val_accuracy: 0.7645\n",
      "Epoch 20/40\n",
      "16/16 [==============================] - 8s 485ms/step - loss: 0.1996 - accuracy: 0.8689 - val_loss: 0.3826 - val_accuracy: 0.7862\n",
      "Epoch 21/40\n",
      "16/16 [==============================] - 8s 482ms/step - loss: 0.1748 - accuracy: 0.9002 - val_loss: 0.3750 - val_accuracy: 0.7971\n",
      "Epoch 22/40\n",
      "16/16 [==============================] - 8s 490ms/step - loss: 0.1729 - accuracy: 0.8943 - val_loss: 0.3901 - val_accuracy: 0.7790\n",
      "Epoch 23/40\n",
      "16/16 [==============================] - 8s 484ms/step - loss: 0.1639 - accuracy: 0.9002 - val_loss: 0.3841 - val_accuracy: 0.7790\n",
      "Epoch 24/40\n",
      "16/16 [==============================] - 8s 485ms/step - loss: 0.1444 - accuracy: 0.9178 - val_loss: 0.4128 - val_accuracy: 0.7754\n",
      "Epoch 25/40\n",
      "16/16 [==============================] - 8s 479ms/step - loss: 0.1904 - accuracy: 0.8748 - val_loss: 0.4498 - val_accuracy: 0.7138\n",
      "Epoch 26/40\n",
      "16/16 [==============================] - 8s 488ms/step - loss: 0.1361 - accuracy: 0.9198 - val_loss: 0.4544 - val_accuracy: 0.7355\n",
      "Epoch 27/40\n",
      "16/16 [==============================] - 8s 486ms/step - loss: 0.1376 - accuracy: 0.9354 - val_loss: 0.4531 - val_accuracy: 0.7536\n",
      "Epoch 28/40\n",
      "16/16 [==============================] - 8s 485ms/step - loss: 0.1293 - accuracy: 0.9198 - val_loss: 0.4488 - val_accuracy: 0.7862\n",
      "Epoch 29/40\n",
      "16/16 [==============================] - 8s 479ms/step - loss: 0.1130 - accuracy: 0.9393 - val_loss: 0.4726 - val_accuracy: 0.7500\n",
      "Epoch 30/40\n",
      "16/16 [==============================] - 8s 492ms/step - loss: 0.1308 - accuracy: 0.9295 - val_loss: 0.5144 - val_accuracy: 0.7391\n",
      "Epoch 31/40\n",
      "16/16 [==============================] - 8s 482ms/step - loss: 0.1382 - accuracy: 0.9256 - val_loss: 0.4976 - val_accuracy: 0.7138\n",
      "Epoch 32/40\n",
      "16/16 [==============================] - 8s 483ms/step - loss: 0.1013 - accuracy: 0.9530 - val_loss: 0.5209 - val_accuracy: 0.7572\n",
      "Epoch 33/40\n",
      "16/16 [==============================] - 8s 489ms/step - loss: 0.0821 - accuracy: 0.9648 - val_loss: 0.5538 - val_accuracy: 0.7428\n",
      "Epoch 34/40\n",
      "16/16 [==============================] - 8s 481ms/step - loss: 0.0759 - accuracy: 0.9569 - val_loss: 0.5256 - val_accuracy: 0.7536\n",
      "Epoch 35/40\n",
      "16/16 [==============================] - 8s 484ms/step - loss: 0.0814 - accuracy: 0.9569 - val_loss: 0.5119 - val_accuracy: 0.7717\n",
      "Epoch 36/40\n",
      "16/16 [==============================] - 8s 483ms/step - loss: 0.0771 - accuracy: 0.9628 - val_loss: 0.5503 - val_accuracy: 0.7428\n",
      "Epoch 37/40\n",
      "16/16 [==============================] - 8s 480ms/step - loss: 0.0796 - accuracy: 0.9628 - val_loss: 0.5780 - val_accuracy: 0.7428\n",
      "Epoch 38/40\n",
      "16/16 [==============================] - 8s 519ms/step - loss: 0.0737 - accuracy: 0.9706 - val_loss: 0.6441 - val_accuracy: 0.7609\n",
      "Epoch 39/40\n",
      "16/16 [==============================] - 8s 493ms/step - loss: 0.0791 - accuracy: 0.9589 - val_loss: 0.5910 - val_accuracy: 0.7283\n",
      "Epoch 40/40\n",
      "16/16 [==============================] - 8s 491ms/step - loss: 0.0566 - accuracy: 0.9824 - val_loss: 0.6514 - val_accuracy: 0.7536\n"
     ]
    }
   ],
   "source": [
    "import warnings\n",
    "warnings.filterwarnings('ignore')\n",
    "y_train = np.asarray(y_train).astype('float32').reshape((-1,1))\n",
    "checkpoint = ModelCheckpoint('cov-{epoch:03d}.model',monitor='val_loss',verbose=0,save_best_only=True,mode='auto')\n",
    "h=model.fit(x_train,y_train,epochs=40,validation_split=0.35)"
   ]
  },
  {
   "cell_type": "code",
   "execution_count": 12,
   "metadata": {},
   "outputs": [
    {
     "data": {
      "image/png": "[encoded data removed]",
      "text/plain": [
       "<Figure size 864x288 with 2 Axes>"
      ]
     },
     "metadata": {
      "needs_background": "light"
     },
     "output_type": "display_data"
    }
   ],
   "source": [
    "losses = h.history['loss']\n",
    "accs = h.history['accuracy']\n",
    "val_losses = h.history['val_loss']\n",
    "val_accs = h.history['val_accuracy']\n",
    "epochs = len(losses)\n",
    "\n",
    "plt.figure(figsize=(12, 4))\n",
    "for i, metrics in enumerate(zip([losses, accs], [val_losses, val_accs], ['Loss', 'Accuracy'])):\n",
    "    plt.subplot(1, 2, i + 1)\n",
    "    plt.plot(range(epochs), metrics[0], label='Training {}'.format(metrics[2]))\n",
    "    plt.plot(range(epochs), metrics[1], label='Validation {}'.format(metrics[2]))\n",
    "    plt.legend()\n",
    "plt.show()"
   ]
  },
  {
   "cell_type": "code",
   "execution_count": 21,
   "metadata": {},
   "outputs": [
    {
     "data": {
      "text/plain": [
       "array([1], dtype=int64)"
      ]
     },
     "execution_count": 21,
     "metadata": {},
     "output_type": "execute_result"
    }
   ],
   "source": [
    "model=tf.keras.models.load_model('cov-003.model')\n",
    "\n",
    "from keras.preprocessing.image import load_img\n",
    "from keras.preprocessing.image import img_to_array\n",
    "from keras.preprocessing.image import array_to_img\n",
    "from numpy import asarray\n",
    "import cv2\n",
    "img=cv2.imread(r'D:\\4-1 project\\X-Ray Image DataSet\\No_findings\\00001769_000.png')\n",
    "gray=cv2.cvtColor(img,cv2.COLOR_BGR2GRAY)           \n",
    "resized=cv2.resize(gray,(100,100))\n",
    "r=resized.reshape(1,100,100,1)\n",
    "model.predict(r)\n",
    "a=np.argmax(model.predict(r), axis=1)\n",
    "a"
   ]
  },
  {
   "cell_type": "code",
   "execution_count": null,
   "metadata": {
    "scrolled": true
   },
   "outputs": [],
   "source": [
    "\n"
   ]
  },
  {
   "cell_type": "code",
   "execution_count": null,
   "metadata": {},
   "outputs": [],
   "source": []
  },
  {
   "cell_type": "code",
   "execution_count": null,
   "metadata": {},
   "outputs": [],
   "source": []
  },
  {
   "cell_type": "code",
   "execution_count": null,
   "metadata": {},
   "outputs": [],
   "source": []
  },
  {
   "cell_type": "code",
   "execution_count": null,
   "metadata": {},
   "outputs": [],
   "source": []
  }
 ],
 "metadata": {
  "kernelspec": {
   "display_name": "Python 3",
   "language": "python",
   "name": "python3"
  },
  "language_info": {
   "codemirror_mode": {
    "name": "ipython",
    "version": 3
   },
   "file_extension": ".py",
   "mimetype": "text/x-python",
   "name": "python",
   "nbconvert_exporter": "python",
   "pygments_lexer": "ipython3",
   "version": "3.7.6"
  }
 },
 "nbformat": 4,
 "nbformat_minor": 4
}
